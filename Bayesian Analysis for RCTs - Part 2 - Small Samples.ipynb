{
 "cells": [
  {
   "cell_type": "markdown",
   "metadata": {},
   "source": [
    "# Converting p-values to probabilities\n",
    "- in my last blog post, I gave a short introduction to Bayesian analysis\n",
    "- in this blog post, i will "
   ]
  },
  {
   "cell_type": "code",
   "execution_count": 106,
   "metadata": {
    "collapsed": false
   },
   "outputs": [
    {
     "name": "stdout",
     "output_type": "stream",
     "text": [
      "0.01465222841\n",
      "0.445675402483\n",
      "0.216817627258\n",
      "0.334331594389\n",
      "0.00699069661662\n",
      "0.0285852681968\n",
      "0.599110691371\n",
      "0.00260287577617\n",
      "0.0682918043251\n",
      "0.179706168345\n"
     ]
    }
   ],
   "source": [
    "# generate data for treatment and control\n",
    "import numpy as np\n",
    "import scipy.stats as stats\n",
    "\n",
    "control_mean = .6\n",
    "effect_size = .15\n",
    "size_t = 40\n",
    "size_c = 30\n",
    "\n",
    "# generate some data and do a test of equality.  repeat until i get a p-value that i like\n",
    "dummy = True\n",
    "while dummy == True:\n",
    "    control = np.random.binomial(1,control_mean,size_c)\n",
    "    treatment = np.random.binomial(1,control_mean+effect_size, size_t)\n",
    "\n",
    "    # estimate the p-value for a t-test\n",
    "    result = stats.ttest_ind_from_stats(treatment.mean(),treatment.std(), size_t, control.mean(),control.std(), size_c) \n",
    "    if result[1] > .15 and result[1] < .2:\n",
    "        dummy = False"
   ]
  },
  {
   "cell_type": "code",
   "execution_count": 136,
   "metadata": {
    "collapsed": false
   },
   "outputs": [],
   "source": [
    "# combine data into a single vector and add an array for \n",
    "treat_status = np.repeat(np.array([0,1]), [size_c, size_t])\n",
    "outcome = np.concatenate((treatment,control),0)"
   ]
  },
  {
   "cell_type": "code",
   "execution_count": 145,
   "metadata": {
    "collapsed": true
   },
   "outputs": [],
   "source": [
    "# estimate the data using a model\n",
    "# import the pystan package.  this package allows python to call the Stan language\n",
    "import pystan\n",
    "# The next few lines define the model in Stan.  The entire Stan model is saved as the python variable\n",
    "# stan_code which I use later to fit the model. \n",
    "stan_code = '''\n",
    "data {\n",
    "    int<lower=0> N;  // number of observations\n",
    "    int<lower=0,upper=1> y[N];  // outcome data\n",
    "    vector[N] treat;  // variable indicating treatment arm for each observation\n",
    "}\n",
    "parameters {\n",
    "    real alpha;\n",
    "    real beta;\n",
    "}\n",
    "model {\n",
    "    alpha ~ normal(0,2);  // this means that our prior is that the control mean is .5  \n",
    "    beta ~ normal(0,1); // \n",
    "    y ~ bernoulli_logit(alpha + beta*treat);\n",
    "}\n",
    "'''\n",
    "stan_data = {'N': len(outcome),\n",
    "        'y': outcome,\n",
    "        'treat': treat_status }"
   ]
  },
  {
   "cell_type": "code",
   "execution_count": 146,
   "metadata": {
    "collapsed": false
   },
   "outputs": [
    {
     "name": "stderr",
     "output_type": "stream",
     "text": [
      "/Users/douglasjohnson/anaconda/lib/python3.5/multiprocessing/reduction.py:50: UserWarning: Pickling fit objects is an experimental feature!\n",
      "The relevant StanModel instance must be pickled along with this fit object.\n",
      "When unpickling the StanModel must be unpickled first.\n",
      "  cls(buf, protocol).dump(obj)\n",
      "/Users/douglasjohnson/anaconda/lib/python3.5/multiprocessing/reduction.py:50: UserWarning: Pickling fit objects is an experimental feature!\n",
      "The relevant StanModel instance must be pickled along with this fit object.\n",
      "When unpickling the StanModel must be unpickled first.\n",
      "  cls(buf, protocol).dump(obj)\n",
      "/Users/douglasjohnson/anaconda/lib/python3.5/multiprocessing/reduction.py:50: UserWarning: Pickling fit objects is an experimental feature!\n",
      "The relevant StanModel instance must be pickled along with this fit object.\n",
      "When unpickling the StanModel must be unpickled first.\n",
      "  cls(buf, protocol).dump(obj)\n",
      "/Users/douglasjohnson/anaconda/lib/python3.5/multiprocessing/reduction.py:50: UserWarning: Pickling fit objects is an experimental feature!\n",
      "The relevant StanModel instance must be pickled along with this fit object.\n",
      "When unpickling the StanModel must be unpickled first.\n",
      "  cls(buf, protocol).dump(obj)\n"
     ]
    }
   ],
   "source": [
    "fit = pystan.stan(model_code=stan_code, data=stan_data, iter=1000, chains=4)"
   ]
  },
  {
   "cell_type": "code",
   "execution_count": 148,
   "metadata": {
    "collapsed": false
   },
   "outputs": [
    {
     "name": "stdout",
     "output_type": "stream",
     "text": [
      "Inference for Stan model: anon_model_b71f87ef6e649cc3506bc4de66c524ab.\n",
      "4 chains, each with iter=1000; warmup=500; thin=1; \n",
      "post-warmup draws per chain=500, total post-warmup draws=2000.\n",
      "\n",
      "        mean se_mean     sd   2.5%    25%    50%    75%  97.5%  n_eff   Rhat\n",
      "alpha   0.68  8.0e-3   0.36   0.02   0.43   0.68   0.92    1.4   2000   1.01\n",
      "beta    0.17  9.6e-3   0.43  -0.63  -0.13   0.18   0.47    1.0   2000   1.01\n",
      "lp__  -44.56    0.02   0.95 -47.17 -44.94 -44.28  -43.9 -43.63   2000    1.0\n",
      "\n",
      "Samples were drawn using NUTS(diag_e) at Mon Jun 27 18:10:09 2016.\n",
      "For each parameter, n_eff is a crude measure of effective sample size,\n",
      "and Rhat is the potential scale reduction factor on split chains (at \n",
      "convergence, Rhat=1).\n"
     ]
    }
   ],
   "source": [
    "print(fit)"
   ]
  },
  {
   "cell_type": "code",
   "execution_count": null,
   "metadata": {
    "collapsed": true
   },
   "outputs": [],
   "source": []
  }
 ],
 "metadata": {
  "kernelspec": {
   "display_name": "Python 3",
   "language": "python",
   "name": "python3"
  },
  "language_info": {
   "codemirror_mode": {
    "name": "ipython",
    "version": 3
   },
   "file_extension": ".py",
   "mimetype": "text/x-python",
   "name": "python",
   "nbconvert_exporter": "python",
   "pygments_lexer": "ipython3",
   "version": "3.5.1"
  }
 },
 "nbformat": 4,
 "nbformat_minor": 0
}
