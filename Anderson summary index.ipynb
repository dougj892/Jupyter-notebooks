{
 "cells": [
  {
   "cell_type": "markdown",
   "metadata": {},
   "source": [
    "# Create Anderson's summary index\n",
    "The following code creates a single summary index as per [Anderson](http://amstat.tandfonline.com/doi/abs/10.1198/016214508000000841#.V4G6KFfwxHU).  The approach Anderson uses is as follows:\n",
    "\n",
    "1. Normalize each outcome variable by subtracting the mean and dividing by the standard deviation of the control group. In symbols, calculate:\n",
    "\n",
    "$$\\tilde{y}_{ik}=\\frac{y_{ik}-\\bar{y}_k}{\\sigma_{k,c}}$$\n",
    "\n",
    "Where i indexes observations and k indexes outcomes.  \n",
    "\n",
    "2. Calculate \\\\( \\hat{\\Sigma} \\\\), the sample variance covariance matrix for this vector of transformed outcomes\n",
    "3. Calculate \\\\( \\mathbf{s\\_i}=\\hat{\\Sigma}^{-1}\\cdot \\mathbf{\\tilde{y_i}} \\\\) the dot product of the inverse of the sample variance covariance matrix and the vector of outcomes for each observation\n",
    "4. Add up the elements of  \\\\( \\mathbf{s\\_i} \\\\) to get your final index\n",
    "\n",
    "Note 1: Anderson also divides the final index by a normalizing factor.  This might be useful if you want to compare the coefficients on different indices but it won't affect p-value so I have left this out. \n",
    "\n",
    "Note 2: You must have the pandas and numpy packages installed to run this code. If you install Python using [Anaconda](https://www.continuum.io/downloads) these two packages will be automatically installed.  "
   ]
  },
  {
   "cell_type": "code",
   "execution_count": 76,
   "metadata": {
    "collapsed": false
   },
   "outputs": [],
   "source": [
    "# Import packages\n",
    "import pandas as pd\n",
    "import numpy as np\n",
    "\n",
    "# Read in a sample dataset\n",
    "df = pd.read_csv(\"https://raw.githubusercontent.com/pydata/pandas/master/pandas/tests/data/iris.csv\")"
   ]
  },
  {
   "cell_type": "code",
   "execution_count": 78,
   "metadata": {
    "collapsed": false
   },
   "outputs": [],
   "source": [
    "# Create a new variable \"treat\" and randomly assign it a value of 0 or 1. This is required because our sample \n",
    "# dataset has no treatment variable.\n",
    "df['treat'] = np.random.binomial(1, .5, df.shape[0])\n",
    "\n",
    "# test the effect of adding a bunch of NaNs. For testing purposes only\n",
    "# df.iloc[20:][['PetalLength']] = np.NaN\n",
    "\n",
    "# note that the next line creates a copy of the dataframe with just the specified columns\n",
    "vars = df[['SepalLength','SepalWidth','PetalLength', 'PetalWidth']]\n",
    "# normalize these variables.  note that the mean and std functions exclude NaN values on a column-wise basis\n",
    "# that is, if there is a NaN value in one row for one column that row will only be excluded in the calcs for that one \n",
    "# column\n",
    "vars_t = (vars-vars.mean())/vars[df.treat==1].std()\n",
    "sigma_inv = np.linalg.inv(vars_t.cov())\n",
    "# replace any missing values in vars_t with 0\n",
    "vars_t = vars_t.fillna(0)\n",
    "s = np.dot(sigma_inv,vars_t.T).T\n",
    "index = np.dot(s,np.ones(s.shape[1]))\n",
    "# add the index as a column to the dataframe\n",
    "df['index']=pd.Series(index)"
   ]
  },
  {
   "cell_type": "code",
   "execution_count": 79,
   "metadata": {
    "collapsed": false
   },
   "outputs": [
    {
     "data": {
      "text/plain": [
       "<matplotlib.axes._subplots.AxesSubplot at 0x11bea5b00>"
      ]
     },
     "execution_count": 79,
     "metadata": {},
     "output_type": "execute_result"
    },
    {
     "data": {
      "image/png": "[encoded data removed]",
      "text/plain": [
       "<matplotlib.figure.Figure at 0x11be3fda0>"
      ]
     },
     "metadata": {},
     "output_type": "display_data"
    }
   ],
   "source": [
    "# look at the distribution of index\n",
    "%matplotlib inline\n",
    "import matplotlib.pyplot as plt\n",
    "import seaborn as sns\n",
    "sns.distplot(df['index'])"
   ]
  },
  {
   "cell_type": "code",
   "execution_count": null,
   "metadata": {
    "collapsed": true
   },
   "outputs": [],
   "source": []
  }
 ],
 "metadata": {
  "kernelspec": {
   "display_name": "Python 3",
   "language": "python",
   "name": "python3"
  },
  "language_info": {
   "codemirror_mode": {
    "name": "ipython",
    "version": 3
   },
   "file_extension": ".py",
   "mimetype": "text/x-python",
   "name": "python",
   "nbconvert_exporter": "python",
   "pygments_lexer": "ipython3",
   "version": "3.5.1"
  }
 },
 "nbformat": 4,
 "nbformat_minor": 0
}
