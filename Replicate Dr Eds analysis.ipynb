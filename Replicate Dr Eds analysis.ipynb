{
 "cells": [
  {
   "cell_type": "code",
   "execution_count": 2,
   "metadata": {
    "collapsed": false
   },
   "outputs": [],
   "source": [
    "import numpy as np\n",
    "import pandas as pd\n",
    "\n",
    "df = pd.read_stata(\"/Users/douglasjohnson/Dropbox (IDinsight)/STIR/SIEF/SIEF Impact Evaluation/Midline/Analysis/Cleaned Files/Delhi_UP_Data_Combined_bothrounds.dta\")"
   ]
  },
  {
   "cell_type": "code",
   "execution_count": 3,
   "metadata": {
    "collapsed": false
   },
   "outputs": [
    {
     "data": {
      "text/plain": [
       "54"
      ]
     },
     "execution_count": 3,
     "metadata": {},
     "output_type": "execute_result"
    }
   ],
   "source": [
    "# get the number of variables of the type qXXX_bl\n",
    "import re\n",
    "var_list = df.columns.values.tolist()\n",
    "regex = re.compile(\"q(1|2)\\d{3}_ml\")\n",
    "matched_vars =[var for var in var_list for m in [regex.search(var)] if m]\n",
    "len(matched_vars)"
   ]
  },
  {
   "cell_type": "code",
   "execution_count": 4,
   "metadata": {
    "collapsed": false
   },
   "outputs": [
    {
     "data": {
      "text/plain": [
       "['q1105_ml',\n",
       " 'q1111_ml',\n",
       " 'q1208_ml',\n",
       " 'q1207_ml',\n",
       " 'q1215_ml',\n",
       " 'q1210_ml',\n",
       " 'q1205_ml',\n",
       " 'q1101_ml',\n",
       " 'q1102_ml',\n",
       " 'q1104_ml',\n",
       " 'q1103_ml',\n",
       " 'q1211_ml',\n",
       " 'q1107_ml',\n",
       " 'q1201_ml',\n",
       " 'q1108_ml',\n",
       " 'q1110_ml',\n",
       " 'q1203_ml',\n",
       " 'q1202_ml',\n",
       " 'q1115_ml',\n",
       " 'q1204_ml',\n",
       " 'q1232_ml',\n",
       " 'q1231_ml',\n",
       " 'q1133_ml',\n",
       " 'q1233_ml',\n",
       " 'q1131_ml',\n",
       " 'q1132_ml',\n",
       " 'q2104_ml',\n",
       " 'q2208_ml',\n",
       " 'q2103_ml',\n",
       " 'q2205_ml',\n",
       " 'q2215_ml',\n",
       " 'q2111_ml',\n",
       " 'q2201_ml',\n",
       " 'q2207_ml',\n",
       " 'q2210_ml',\n",
       " 'q2211_ml',\n",
       " 'q2115_ml',\n",
       " 'q2203_ml',\n",
       " 'q2202_ml',\n",
       " 'q2105_ml',\n",
       " 'q2110_ml',\n",
       " 'q2204_ml',\n",
       " 'q2102_ml',\n",
       " 'q2101_ml',\n",
       " 'q2107_ml',\n",
       " 'q2108_ml',\n",
       " 'q2133_ml',\n",
       " 'q2132_ml',\n",
       " 'q2233_ml',\n",
       " 'q2231_ml',\n",
       " 'q1338_ml',\n",
       " 'q1238_ml',\n",
       " 'q1138_ml',\n",
       " 'q2238_ml']"
      ]
     },
     "execution_count": 4,
     "metadata": {},
     "output_type": "execute_result"
    }
   ],
   "source": [
    "matched_vars"
   ]
  },
  {
   "cell_type": "code",
   "execution_count": null,
   "metadata": {
    "collapsed": true
   },
   "outputs": [],
   "source": []
  }
 ],
 "metadata": {
  "kernelspec": {
   "display_name": "Python 3",
   "language": "python",
   "name": "python3"
  },
  "language_info": {
   "codemirror_mode": {
    "name": "ipython",
    "version": 3
   },
   "file_extension": ".py",
   "mimetype": "text/x-python",
   "name": "python",
   "nbconvert_exporter": "python",
   "pygments_lexer": "ipython3",
   "version": "3.5.1"
  }
 },
 "nbformat": 4,
 "nbformat_minor": 0
}
