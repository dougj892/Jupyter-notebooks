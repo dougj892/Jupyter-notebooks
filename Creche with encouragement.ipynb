{
 "cells": [
  {
   "cell_type": "markdown",
   "metadata": {},
   "source": [
    "# rough power calcs for creche with encouragement design\n",
    "The formula for MDE given the other inputs is...\n",
    "\n",
    "$$ MDE = 2M\\sqrt{\\frac{\\sigma^2_y(1-R^2)}{N}} $$\n",
    "\n",
    "Where...\n",
    "\n",
    "$$ M = 2.8 $$\n",
    "\n",
    "And J is number of schools in both treatment and control (combined!!!), K is number of teachers per school, and $\\sigma_y$ is the standard deviation of the outcome variable."
   ]
  },
  {
   "cell_type": "code",
   "execution_count": 9,
   "metadata": {
    "collapsed": false
   },
   "outputs": [
    {
     "data": {
      "text/plain": [
       "0.12336958025920869"
      ]
     },
     "execution_count": 9,
     "metadata": {},
     "output_type": "execute_result"
    }
   ],
   "source": [
    "import scipy.stats as stats\n",
    "\n",
    "# hard code assumptions\n",
    "std = (.35*.65)**.5\n",
    "N = 300 # total number of kids\n",
    "alpha = .05\n",
    "rsq = .36\n",
    "\n",
    "# define function for calculating MDE\n",
    "def mde(N,alpha, std, rsq, num_test =1, power = 0.8):\n",
    "    adj_alpha = alpha/num_test\n",
    "    M = 2.8\n",
    "    mde = 2*M*std*(((1-rsq)/N)**.5)\n",
    "    return mde\n",
    "\n",
    "mde(N, alpha, std, rsq)"
   ]
  },
  {
   "cell_type": "code",
   "execution_count": 10,
   "metadata": {
    "collapsed": false
   },
   "outputs": [
    {
     "data": {
      "text/plain": [
       "[<matplotlib.lines.Line2D at 0x10e71bb70>]"
      ]
     },
     "execution_count": 10,
     "metadata": {},
     "output_type": "execute_result"
    },
    {
     "data": {
      "image/png": "[encoded data removed]",
      "text/plain": [
       "<matplotlib.figure.Figure at 0x10b7c47b8>"
      ]
     },
     "metadata": {},
     "output_type": "display_data"
    }
   ],
   "source": [
    "%matplotlib inline\n",
    "import matplotlib.pyplot as plt\n",
    "import numpy as np\n",
    "\n",
    "# set range for k, the number of children we collect data for per creche\n",
    "ran = np.arange(500,2000)\n",
    "\n",
    "# calcualte MDEs assuming rho = .05 for range of values for k\n",
    "y = np.asarray([mde(k, alpha, std, rsq) for k in ran])\n",
    "plt.plot(ran,y)\n",
    "\n"
   ]
  },
  {
   "cell_type": "code",
   "execution_count": null,
   "metadata": {
    "collapsed": true
   },
   "outputs": [],
   "source": []
  }
 ],
 "metadata": {
  "kernelspec": {
   "display_name": "Python 3",
   "language": "python",
   "name": "python3"
  },
  "language_info": {
   "codemirror_mode": {
    "name": "ipython",
    "version": 3
   },
   "file_extension": ".py",
   "mimetype": "text/x-python",
   "name": "python",
   "nbconvert_exporter": "python",
   "pygments_lexer": "ipython3",
   "version": "3.5.2"
  }
 },
 "nbformat": 4,
 "nbformat_minor": 0
}
