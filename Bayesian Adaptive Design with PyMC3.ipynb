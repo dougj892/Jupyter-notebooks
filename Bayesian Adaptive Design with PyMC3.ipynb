{
 "cells": [
  {
   "cell_type": "markdown",
   "metadata": {},
   "source": [
    "# Using PyMC3 for Bayesian Adaptive Design\n",
    "Testing out the potential use of PyMC3 for analyzing data from RCTs conducted using a Bayesian adaptive design.\n",
    "\n",
    "Some potential advantages of using a Bayesian approach in RCTs:\n",
    "1. Allows you to account for existing info / beliefs\n",
    "  1. This could be either a feature or a bug depending on how easy it is to specify priors\n",
    "2. Modeling for external validity\n",
    "  1. Bayesian models make it a little easier to generate predictions of the likely effect of a treatment on new units not in the experiment.  For example, the RCT might have been conducted in a set of relatively wealthy districts.  If you have data on the average income of the districts \n",
    "3. The final output is easier for decision-makers to understand\n",
    "    1. This is a big advantage.  Bayesian methods may be slightly more complex under the hood but the final output of the analysis is something that policymakers and others can easily understand.  \n",
    "4. Using adaptive design to more quickly identify superior treatment\n",
    "  1. Unfortunately, this seems to only really be applicable in cases where you don't randomize all at once. For most development RCTs, you do randomize all at once.\n",
    "5. Modelling surrogate outcomes\n",
    "  1. Most dev RCTs probably don't have enough cohorts for an adaptive design to really produce big gains. More often though, there are a few cohorts and there are surrogate and end line outcomes for each cohort.  It's easier to model the relationship between the surrogate outcome and the end line using a Bayesian approach than a frequentist one. \n",
    "\n",
    "\n"
   ]
  },
  {
   "cell_type": "code",
   "execution_count": null,
   "metadata": {
    "collapsed": true
   },
   "outputs": [],
   "source": []
  }
 ],
 "metadata": {
  "kernelspec": {
   "display_name": "Python 3",
   "language": "python",
   "name": "python3"
  },
  "language_info": {
   "codemirror_mode": {
    "name": "ipython",
    "version": 3
   },
   "file_extension": ".py",
   "mimetype": "text/x-python",
   "name": "python",
   "nbconvert_exporter": "python",
   "pygments_lexer": "ipython3",
   "version": "3.5.1"
  }
 },
 "nbformat": 4,
 "nbformat_minor": 0
}
