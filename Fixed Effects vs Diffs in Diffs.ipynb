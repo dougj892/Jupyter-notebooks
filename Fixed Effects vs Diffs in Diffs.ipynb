{
 "cells": [
  {
   "cell_type": "markdown",
   "metadata": {},
   "source": [
    "# Fixed effects and first differencing versus diffs in diffs\n",
    "Have always been a little confused as to whether to use diffs in diffs or fixed effects when we have panel data with two time periods.  In this notebook, I generate some fake data to simulate the effect of using one versus the other."
   ]
  },
  {
   "cell_type": "code",
   "execution_count": 10,
   "metadata": {
    "collapsed": false
   },
   "outputs": [],
   "source": [
    "import numpy as np\n",
    "import pandas as pd\n",
    "import seaborn as sns\n",
    "import matplotlib.pyplot as plt"
   ]
  },
  {
   "cell_type": "code",
   "execution_count": 58,
   "metadata": {
    "collapsed": false
   },
   "outputs": [],
   "source": [
    "% matplotlib inline\n",
    "sampsize = 1000\n",
    "pre = np.random.normal(0,1, sampsize)\n",
    "treat = np.random.binomial(1,.5,sampsize)\n",
    "# add a little bit of extra noise just to the \"treated\" units\n",
    "pre = pre + treat*np.random.normal(.1,.05,sampsize)\n",
    "noise = np.random.normal(0,.15,sampsize)\n",
    "effect = .1\n",
    "post = pre + noise + effect*treat"
   ]
  },
  {
   "cell_type": "code",
   "execution_count": 59,
   "metadata": {
    "collapsed": false
   },
   "outputs": [],
   "source": [
    "# estimate the effect using diffs in diffs\n",
    "outcome = np.concatenate((pre,post),0)\n",
    "repeat_treat = np.concatenate((treat,treat),0)\n",
    "pre_post = np.concatenate((np.repeat(0,sampsize),np.repeat(1,sampsize)),0)\n",
    "df = pd.DataFrame({'y':outcome, 'treat':repeat_treat,'round':pre_post})"
   ]
  },
  {
   "cell_type": "code",
   "execution_count": 60,
   "metadata": {
    "collapsed": false
   },
   "outputs": [
    {
     "name": "stdout",
     "output_type": "stream",
     "text": [
      "                            OLS Regression Results                            \n",
      "==============================================================================\n",
      "Dep. Variable:                      y   R-squared:                       0.017\n",
      "Model:                            OLS   Adj. R-squared:                  0.016\n",
      "Method:                 Least Squares   F-statistic:                     11.69\n",
      "Date:                Mon, 25 Jul 2016   Prob (F-statistic):           1.36e-07\n",
      "Time:                        20:34:06   Log-Likelihood:                -2798.6\n",
      "No. Observations:                2000   AIC:                             5605.\n",
      "Df Residuals:                    1996   BIC:                             5628.\n",
      "Df Model:                           3                                         \n",
      "Covariance Type:            nonrobust                                         \n",
      "==============================================================================\n",
      "                 coef    std err          t      P>|t|      [95.0% Conf. Int.]\n",
      "------------------------------------------------------------------------------\n",
      "const         -0.0050      0.044     -0.113      0.910        -0.092     0.082\n",
      "x1            -0.0131      0.063     -0.210      0.834        -0.136     0.110\n",
      "x2             0.1985      0.062      3.198      0.001         0.077     0.320\n",
      "x3             0.1056      0.088      1.203      0.229        -0.067     0.278\n",
      "==============================================================================\n",
      "Omnibus:                        6.237   Durbin-Watson:                   2.072\n",
      "Prob(Omnibus):                  0.044   Jarque-Bera (JB):                5.963\n",
      "Skew:                          -0.101   Prob(JB):                       0.0507\n",
      "Kurtosis:                       2.825   Cond. No.                         6.91\n",
      "==============================================================================\n",
      "\n",
      "Warnings:\n",
      "[1] Standard Errors assume that the covariance matrix of the errors is correctly specified.\n"
     ]
    }
   ],
   "source": [
    "# estimate the unadjusted impact on wealthindex_e\n",
    "import statsmodels.api as sm\n",
    "X = np.stack((pre_post, repeat_treat, pre_post*repeat_treat),1)\n",
    "X = sm.add_constant(X)\n",
    "model = sm.OLS(df.y, X)\n",
    "results = model.fit()\n",
    "print(results.summary())"
   ]
  },
  {
   "cell_type": "code",
   "execution_count": 61,
   "metadata": {
    "collapsed": false
   },
   "outputs": [
    {
     "name": "stdout",
     "output_type": "stream",
     "text": [
      "                            OLS Regression Results                            \n",
      "==============================================================================\n",
      "Dep. Variable:                      y   R-squared:                       0.111\n",
      "Model:                            OLS   Adj. R-squared:                  0.110\n",
      "Method:                 Least Squares   F-statistic:                     124.2\n",
      "Date:                Mon, 25 Jul 2016   Prob (F-statistic):           2.92e-27\n",
      "Time:                        20:34:07   Log-Likelihood:                 480.31\n",
      "No. Observations:                1000   AIC:                            -956.6\n",
      "Df Residuals:                     998   BIC:                            -946.8\n",
      "Df Model:                           1                                         \n",
      "Covariance Type:            nonrobust                                         \n",
      "==============================================================================\n",
      "                 coef    std err          t      P>|t|      [95.0% Conf. Int.]\n",
      "------------------------------------------------------------------------------\n",
      "const         -0.0131      0.007     -1.944      0.052        -0.026     0.000\n",
      "x1             0.1056      0.009     11.143      0.000         0.087     0.124\n",
      "==============================================================================\n",
      "Omnibus:                        0.215   Durbin-Watson:                   1.933\n",
      "Prob(Omnibus):                  0.898   Jarque-Bera (JB):                0.191\n",
      "Skew:                           0.034   Prob(JB):                        0.909\n",
      "Kurtosis:                       3.005   Cond. No.                         2.64\n",
      "==============================================================================\n",
      "\n",
      "Warnings:\n",
      "[1] Standard Errors assume that the covariance matrix of the errors is correctly specified.\n"
     ]
    }
   ],
   "source": [
    "# Estimate the same model using a first difference approach\n",
    "delta_y = post - pre\n",
    "delta_treat = treat\n",
    "X = delta_treat\n",
    "X = sm.add_constant(X)\n",
    "model = sm.OLS(delta_y, X)\n",
    "results = model.fit()\n",
    "print(results.summary())"
   ]
  },
  {
   "cell_type": "code",
   "execution_count": 65,
   "metadata": {
    "collapsed": false
   },
   "outputs": [
    {
     "data": {
      "text/plain": [
       "array([ 0.00666126,  0.0094819 ])"
      ]
     },
     "execution_count": 65,
     "metadata": {},
     "output_type": "execute_result"
    }
   ],
   "source": [
    "# one more time using fixed effects"
   ]
  },
  {
   "cell_type": "markdown",
   "metadata": {},
   "source": [
    "# Key Results\n",
    "For the very simple case with no covariates presented above, the estimates of the impact are always the same but...\n",
    "1. The estimates of impact are always the same.\n",
    "2. When there is no difference in treat and control in the pre period (as you would expect in an RCT), the estimate of the standard errors of the estimators are pretty similar\n",
    "3. If there is a systematic difference between treat and control, the standard error of the first difference estimator can be much smaller than the standard error of the diffs in diffs estimator\n",
    "\n",
    "A couple of other things to consider\n",
    "\n",
    "1. With fixed effects / first differencing, you can't include covariates that don't change over time"
   ]
  },
  {
   "cell_type": "markdown",
   "metadata": {},
   "source": [
    "# More stuff to do\n",
    "1. Ideally, I should derive the estimates of variance for the different estimators and see how they differ\n",
    "2. \n"
   ]
  },
  {
   "cell_type": "code",
   "execution_count": null,
   "metadata": {
    "collapsed": true
   },
   "outputs": [],
   "source": []
  }
 ],
 "metadata": {
  "kernelspec": {
   "display_name": "Python 3",
   "language": "python",
   "name": "python3"
  },
  "language_info": {
   "codemirror_mode": {
    "name": "ipython",
    "version": 3
   },
   "file_extension": ".py",
   "mimetype": "text/x-python",
   "name": "python",
   "nbconvert_exporter": "python",
   "pygments_lexer": "ipython3",
   "version": "3.5.1"
  }
 },
 "nbformat": 4,
 "nbformat_minor": 0
}
