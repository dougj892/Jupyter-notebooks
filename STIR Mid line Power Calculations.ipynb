{
 "cells": [
  {
   "cell_type": "markdown",
   "metadata": {
    "deletable": true,
    "editable": true
   },
   "source": [
    "# Power calculations\n",
    "This notebook calculates the minimal detectable effect (MDE) for analysis of a single 4 point Likert scale question from the TIPSS classroom observation tool. The purpose of these power calculations is to determine...\n",
    "\n",
    "1. In Delhi, should we conduct classroom observations using the 810 teachers that STIR initially targeted or also conduct classroom observations for all teachers that joined schools before a specific date.\n",
    "2. In UP, should we only conduct classroom observations for those teachers from the baseline or increase our sample\n",
    "\n"
   ]
  },
  {
   "cell_type": "markdown",
   "metadata": {
    "deletable": true,
    "editable": true
   },
   "source": [
    "## Power calcs for Likert Question\n",
    "\n",
    "These power calculations spit out MDE as the output.  In assessing whether an average change on a Likert scale question is large or small, I found [this article](https://www.washingtonpost.com/blogs/monkey-cage/wp/2014/12/19/pushing-at-an-open-door-when-can-personal-stories-change-minds-on-gay-rights/) helpful. The author points out that for a 5 point Likert scale question, an average change of 0.8 is massive and rarely seen.  In esitmating power, I use the following assumptions:\n",
    "1. standard deviation = .5 (this roughly corresponds to the case where 15% of the question responses are 1s, 35% are 2s, 35% are 3s, and 15% are 4s.)\n",
    "2. $\\rho$ = .22 (Copying this from Stuart's original do file)\n",
    "3. no covariates at either the school or teacher level\n",
    "4. There are 80 schools in treatment and 80 schools in control. (There are actually 120 treatment and 60 control. This seemed like a reasonable fudge.)"
   ]
  },
  {
   "cell_type": "markdown",
   "metadata": {
    "deletable": true,
    "editable": true
   },
   "source": [
    "The formula for MDE given the other inputs is...\n",
    "\n",
    "$$ MDE = 2M_J\\sigma_y\\sqrt{\\frac{\\rho}{J}+\\frac{1-\\rho}{JK}} $$\n",
    "\n",
    "Where...\n",
    "\n",
    "$$ M_J = F^{-1}_t\\left(1-\\frac{\\alpha}{2},J\\right) + F^{-1}_t\\left(1-\\beta,J\\right) $$\n",
    "\n",
    "And J is number of schools in treatment (!!!! this is wrong, J should be number of schools in both T and C or else the 2 should be replaced with 2^.5 !!!), K is number of teachers per school, and $\\sigma_y$ is the standard deviation of the outcome variable."
   ]
  },
  {
   "cell_type": "code",
   "execution_count": 1,
   "metadata": {
    "collapsed": false,
    "deletable": true,
    "editable": true
   },
   "outputs": [],
   "source": [
    "import scipy.stats as stats\n",
    "\n",
    "# hard code assumptions\n",
    "std = (.3*.7)\n",
    "rho = .08\n",
    "J = 150 # J = number of schools in control group (!!! note that this is wrong, should be total schools in T and C!!!)\n",
    "K = 10\n",
    "alpha = .05\n",
    "num_test = 19\n",
    "\n",
    "# define function for calculating MDE\n",
    "def mde(J,K,alpha, num_test, rho, std, rsqk = 0.0):\n",
    "    adj_alpha = alpha/num_test\n",
    "    M = stats.t.ppf(1-adj_alpha/2,J)+stats.t.ppf(.8,J)\n",
    "    mde = 2*M*std*((rho/J) +((1-rho)*(1-rsqk))/(J*K))**.5\n",
    "    return mde"
   ]
  },
  {
   "cell_type": "code",
   "execution_count": 20,
   "metadata": {
    "collapsed": false,
    "deletable": true,
    "editable": true
   },
   "outputs": [
    {
     "data": {
      "text/plain": [
       "<matplotlib.legend.Legend at 0x10ece17f0>"
      ]
     },
     "execution_count": 20,
     "metadata": {},
     "output_type": "execute_result"
    },
    {
     "data": {
      "image/png": "[encoded data removed]",
      "text/plain": [
       "<matplotlib.figure.Figure at 0x10ea46978>"
      ]
     },
     "metadata": {},
     "output_type": "display_data"
    }
   ],
   "source": [
    "# MDE versus number of teachers per school for various values of K\n",
    "%matplotlib inline\n",
    "import matplotlib.pyplot as plt\n",
    "import numpy as np\n",
    "\n",
    "ran = np.arange(5,51)\n",
    "y = np.asarray([mde(J,k,alpha, num_test, rho, std) for k in ran])\n",
    "plt.plot(ran,y, label = 'Bonferonni')\n",
    "\n",
    "# same thing but with no correction for multiplicity\n",
    "y2 = np.asarray([mde(J,k,alpha, 1, rho, std) for k in ran])\n",
    "plt.plot(ran, y2, label='No multiplicity correction')\n",
    "plt.legend()"
   ]
  },
  {
   "cell_type": "markdown",
   "metadata": {
    "collapsed": true,
    "deletable": true,
    "editable": true
   },
   "source": [
    "## Power calcs for Stallings\n",
    "For the following power calculations, the outcome variable is the % of observations (out of four observations for each teacher) that the teacher was teaching based on the Stallings tool. In performing these calcs, I use the following assumptions:\n",
    "\n",
    "1. ICC is .09 (from baseline)\n",
    "2. Standard deviation is .33 (i.e. variance is .11. also from baseline)\n",
    "\n",
    "Since we have baseline data for this variable, we can include baseline data as a covariate. The formula from above is now:\n",
    "\n",
    "$$ MDE = 2M_J\\sigma_y\\sqrt{\\frac{\\rho}{J}+\\frac{(1-\\rho)(1-R_K^2)}{JK}} $$\n",
    "\n",
    "Where $R_K^2$ is the R-squared from a regression of the midline value of the Stallings variable on the baseline value. I use a range of values from .05 to .2 for the R-squared input.  To get a sense of what the R-squared values might be, I looked at McKenzie's paper \"Beyond Baseline and Follow-up\" in which he says that an autocorrelation between .2 and .4 is low. (Autocorrelation squared is equal to R-squared.)\n"
   ]
  },
  {
   "cell_type": "code",
   "execution_count": 4,
   "metadata": {
    "collapsed": false,
    "deletable": true,
    "editable": true
   },
   "outputs": [
    {
     "data": {
      "text/plain": [
       "[<matplotlib.lines.Line2D at 0x10e09c4a8>]"
      ]
     },
     "execution_count": 4,
     "metadata": {},
     "output_type": "execute_result"
    },
    {
     "data": {
      "image/png": "[encoded data removed]",
      "text/plain": [
       "<matplotlib.figure.Figure at 0x104398550>"
      ]
     },
     "metadata": {},
     "output_type": "display_data"
    }
   ],
   "source": [
    "# MDE for various values of R-squared holding\n",
    "\n",
    "r_ran = np.linspace(.05,.2,16)\n",
    "y = np.asarray([mde(J, 2,alpha, 1, .07, .33, r_squared) for r_squared in r_ran])\n",
    "plt.plot(r_ran,y, label = 'Bonferonni')"
   ]
  },
  {
   "cell_type": "code",
   "execution_count": 6,
   "metadata": {
    "collapsed": false,
    "deletable": true,
    "editable": true
   },
   "outputs": [
    {
     "data": {
      "text/plain": [
       "0.14381325097529843"
      ]
     },
     "execution_count": 6,
     "metadata": {},
     "output_type": "execute_result"
    }
   ],
   "source": [
    "mde(J, 2,alpha, 1, .09, .33, .16)"
   ]
  },
  {
   "cell_type": "code",
   "execution_count": null,
   "metadata": {
    "collapsed": true,
    "deletable": true,
    "editable": true
   },
   "outputs": [],
   "source": []
  }
 ],
 "metadata": {
  "kernelspec": {
   "display_name": "Python 3",
   "language": "python",
   "name": "python3"
  },
  "language_info": {
   "codemirror_mode": {
    "name": "ipython",
    "version": 3
   },
   "file_extension": ".py",
   "mimetype": "text/x-python",
   "name": "python",
   "nbconvert_exporter": "python",
   "pygments_lexer": "ipython3",
   "version": "3.5.2"
  }
 },
 "nbformat": 4,
 "nbformat_minor": 0
}
