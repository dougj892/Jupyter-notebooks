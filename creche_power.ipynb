{
 "cells": [
  {
   "cell_type": "markdown",
   "metadata": {},
   "source": [
    "# Power calculations for APPI creche study\n",
    "This notebook calculates very approximate \n",
    "\n",
    "Inputs and assumptions:\n",
    "1. We will sample from lists of pregnant women collected by anganwadis in all areas.\n",
    "    1. Note that we can't use the creche list since we don't have this in control\n",
    "    2. Note also that this means that our main estimate will be for all children in the target areas (not just those who show up at the creche)\n",
    "3. Autocorrelation = .5\n",
    "    1. According to McKenzie's \"Beyond Baseline and End line\" article (p 219) autocorrelation for anthropometric data tends to be betwee .6 and .8.  Since our measurements are quite far apart (16 months or so) \n",
    "4. K = 15 \n",
    "5. No covariates at either the school or teacher level\n",
    "    1. This is probably reasonable since covariates will affect with precision but our samples will be slightly less balanced\n",
    "6. ICC = .08 \n",
    "    1. Not sure where we got this from. "
   ]
  },
  {
   "cell_type": "markdown",
   "metadata": {},
   "source": [
    "The formula for MDE given the other inputs is...\n",
    "\n",
    "$$ MDE = 2M_J\\sigma_y\\sqrt{\\frac{\\rho}{J}+\\frac{(1-\\rho)(1-R^2_k)}{JK}} $$\n",
    "\n",
    "Where...\n",
    "\n",
    "$$ M_J = F^{-1}_t\\left(1-\\frac{\\alpha}{2},J\\right) - F^{-1}_t\\left(1-\\beta,J\\right) $$\n",
    "\n",
    "And J is number of schools in both treatment and control (combined!!!), K is number of teachers per school, and $\\sigma_y$ is the standard deviation of the outcome variable."
   ]
  },
  {
   "cell_type": "code",
   "execution_count": 1,
   "metadata": {},
   "outputs": [],
   "source": [
    "import scipy.stats as stats\n",
    "\n",
    "# hard code assumptions\n",
    "std = (.35*.65)**.5\n",
    "J = 300 # J = number of schools in both treatment and control combined!!!\n",
    "alpha = .05\n",
    "rsqk = .36\n",
    "\n",
    "# define function for calculating MDE\n",
    "def mde(J,K,alpha, rho, std, rsqk = 0.0, num_test =1, power = 0.8):\n",
    "    adj_alpha = alpha/num_test\n",
    "    M = stats.t.ppf(1-adj_alpha/2,J)+stats.t.ppf(power,J)\n",
    "    mde = 2*M*std*((rho/J) +((1-rho)*(1-rsqk))/(J*K))**.5\n",
    "    return mde"
   ]
  },
  {
   "cell_type": "code",
   "execution_count": 2,
   "metadata": {},
   "outputs": [
    {
     "data": {
      "text/plain": [
       "<matplotlib.legend.Legend at 0x104030cf8>"
      ]
     },
     "execution_count": 2,
     "metadata": {},
     "output_type": "execute_result"
    },
    {
     "data": {
      "image/png": "[encoded data removed]",
      "text/plain": [
       "<matplotlib.figure.Figure at 0x104030c18>"
      ]
     },
     "metadata": {},
     "output_type": "display_data"
    }
   ],
   "source": [
    "# MDE versus number of teachers per school for various values of K\n",
    "%matplotlib inline\n",
    "import matplotlib.pyplot as plt\n",
    "import numpy as np\n",
    "\n",
    "# set range for k, the number of children we collect data for per creche\n",
    "ran = np.arange(5,21)\n",
    "\n",
    "# calculate MDEs assuming rho = .05 for range of values for k\n",
    "y = np.asarray([mde(J,k,alpha, .05, std, rsqk) for k in ran])\n",
    "plt.plot(ran,y, label = 'rho = .05')\n",
    "\n",
    "# calcualte MDEs assuming rho = .08 for range of values for k\n",
    "y2 = np.asarray([mde(J,k,alpha, .08, std, rsqk) for k in ran])\n",
    "plt.plot(ran,y2, label = 'rho = .08')\n",
    "plt.legend()"
   ]
  },
  {
   "cell_type": "code",
   "execution_count": 3,
   "metadata": {},
   "outputs": [
    {
     "data": {
      "text/plain": [
       "0.065335748622230821"
      ]
     },
     "execution_count": 3,
     "metadata": {},
     "output_type": "execute_result"
    }
   ],
   "source": [
    "mde(J,6,alpha, .08, std, rsqk)"
   ]
  },
  {
   "cell_type": "markdown",
   "metadata": {},
   "source": [
    "# Stata code\n",
    "The following Stata code attempts to replicate the code above. Note that the MDEs are about one percentage point lower when calculated using Stata.   \n",
    "\n",
    "For J = 10 and rho = .08 MDE = 7.5 percentage points\n",
    "> sampsi 0.35 0.275, sd(0.5) alpha (0.05) r01(.6) pre(1) post(1) power(.8) method(ancova)\n",
    "\n",
    "> sampclus, obsclus(10) rho(0.08)\n",
    "\n",
    "\n",
    "For J = 10 and rho = .05 MDE = 7 percentage points\n",
    "> sampsi 0.35 0.28, sd(0.5) alpha (0.05) r01(.6) pre(1) post(1) power(.8) method(ancova)\n",
    "\n",
    "> sampclus, obsclus(10) rho(0.05)\n",
    "\n",
    "For J = 20 and rho = .08 MDE = 6.5 percentage points\n",
    "> sampsi 0.35 0.285, sd(0.5) alpha (0.05) r01(.6) pre(1) post(1) power(.8) method(ancova)\n",
    "\n",
    "> sampclus, obsclus(20) rho(0.08)\n",
    "\n",
    "For J = 20 and rho = .05 MDE = 5.7 percentage points\n",
    "> sampsi 0.35 0.293, sd(0.5) alpha (0.05) r01(.6) pre(1) post(1) power(.8) method(ancova)\n",
    "\n",
    "> sampclus, obsclus(20) rho(0.05)\n",
    "\n",
    "\n"
   ]
  },
  {
   "cell_type": "code",
   "execution_count": null,
   "metadata": {
    "collapsed": true
   },
   "outputs": [],
   "source": []
  }
 ],
 "metadata": {
  "kernelspec": {
   "display_name": "Python 3",
   "language": "python",
   "name": "python3"
  },
  "language_info": {
   "codemirror_mode": {
    "name": "ipython",
    "version": 3
   },
   "file_extension": ".py",
   "mimetype": "text/x-python",
   "name": "python",
   "nbconvert_exporter": "python",
   "pygments_lexer": "ipython3",
   "version": "3.6.5"
  }
 },
 "nbformat": 4,
 "nbformat_minor": 1
}
