{
 "cells": [
  {
   "cell_type": "markdown",
   "metadata": {},
   "source": [
    "In this notebook, I will use Stan to try to fit a really simply fixed effects model to the first 40 answers for each Toppr user. We assume that each Toppr user i has a fixed probability of answering each of the first 20 questions correctly $\\alpha_{i,0}$ and a fixed probability of answering the second 20 questions correctly $\\alpha_{i,1}$.  Let $Y_{it}$ be an indicator for whether student i gets the t question correct and d[t] a function which equals 1 if t is less than or equal to 10 and 2 if t is greater than 10.  Then the model we fit is...\n",
    "\n",
    "$$ P(Y_{it}=1) = \\alpha_{i,d[t]} $$\n",
    "\n",
    "$$ \\alpha_d \\sim N(\\mu_d,\\sigma^2_d) $$\n",
    "\n",
    "$$ \\mu_d \\sim N(.5,.3); \\sigma \\sim U(0,1) $$"
   ]
  },
  {
   "cell_type": "markdown",
   "metadata": {},
   "source": [
    "Our goal is to compare $\\sigma_1$ vs $\\sigma_2$. "
   ]
  },
  {
   "cell_type": "code",
   "execution_count": null,
   "metadata": {},
   "outputs": [],
   "source": []
  }
 ],
 "metadata": {
  "kernelspec": {
   "display_name": "Python 3",
   "language": "python",
   "name": "python3"
  },
  "language_info": {
   "codemirror_mode": {
    "name": "ipython",
    "version": 3
   },
   "file_extension": ".py",
   "mimetype": "text/x-python",
   "name": "python",
   "nbconvert_exporter": "python",
   "pygments_lexer": "ipython3",
   "version": "3.6.8"
  }
 },
 "nbformat": 4,
 "nbformat_minor": 2
}
