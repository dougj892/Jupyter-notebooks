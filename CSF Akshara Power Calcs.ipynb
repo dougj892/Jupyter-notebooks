{
 "cells": [
  {
   "cell_type": "markdown",
   "metadata": {
    "deletable": true,
    "editable": true
   },
   "source": [
    "# CSF Akshara power calculations\n",
    "This notebook performs relatively quick power calcs for the CSF Akshara project.\n",
    "\n"
   ]
  },
  {
   "cell_type": "markdown",
   "metadata": {
    "deletable": true,
    "editable": true
   },
   "source": [
    "Given autocorrelation and other inputs, the MDE is:\n",
    "\n",
    "$$ MDE = M_J\\sigma_y\\sqrt{2\\left(\\frac{\\rho}{J}+\\frac{1-\\rho}{JK}\\right)(1-auto^2)} $$\n",
    "\n",
    "Where...\n",
    "\n",
    "$$ M_J = F^{-1}_t\\left(1-\\frac{\\alpha}{2},J\\right) + F^{-1}_t\\left(1-\\beta,J\\right) $$\n"
   ]
  },
  {
   "cell_type": "code",
   "execution_count": 3,
   "metadata": {
    "collapsed": false,
    "deletable": true,
    "editable": true
   },
   "outputs": [],
   "source": [
    "import scipy.stats as stats\n",
    "\n",
    "# hard code assumptions\n",
    "std = 1 # assuming that the outcome is measured in standard deviations\n",
    "rho = .1 # Pulled this out of thin air, but seems like a reasonable figure for ICC\n",
    "J = 100 # number of schools in T and C each (not combined)\n",
    "K = 20 # estimated number of kids per school\n",
    "\n",
    "\n",
    "# define function for calculating MDE\n",
    "def mde(J,K, rho, std, auto, alpha = 0.05, beta = .8):\n",
    "    M = stats.t.ppf(1-alpha/2,J)+stats.t.ppf(beta,J)\n",
    "    print(\"M =\",M)\n",
    "    inner_term = (rho/J) +(1-rho)/(J*K)\n",
    "    mde = M*std*(2*inner_term*(1-auto**2))**.5\n",
    "    return mde\n",
    "\n",
    "# note that this is equivalent to the following stata command .\n",
    "# note also that stata uses K to refer to J above\n",
    "# clustersampsi, detectabledifference sd1(std*(1-auto)^.5) m(K) k(J) rho(rho)"
   ]
  },
  {
   "cell_type": "code",
   "execution_count": 4,
   "metadata": {
    "collapsed": false,
    "deletable": true,
    "editable": true
   },
   "outputs": [
    {
     "name": "stdout",
     "output_type": "stream",
     "text": [
      "M = 2.82920194294\n",
      "M = 2.82920194294\n",
      "M = 2.82920194294\n",
      "M = 2.82920194294\n",
      "M = 2.82920194294\n"
     ]
    },
    {
     "data": {
      "text/plain": [
       "[0.13194519469753208,\n",
       " 0.12465155215786286,\n",
       " 0.11578143845583637,\n",
       " 0.10493583997083313,\n",
       " 0.091414312412277252]"
      ]
     },
     "execution_count": 4,
     "metadata": {},
     "output_type": "execute_result"
    }
   ],
   "source": [
    "import numpy as np\n",
    "# calculate MDE for a range of values for autocorrelation from .5 to .8.  \n",
    "# Based on my experience, .6 is probably a reasonable value for auto and .8 is very high.\n",
    "[mde(J,K,rho,std,auto) for auto in np.linspace(.5,.8,5)]"
   ]
  },
  {
   "cell_type": "code",
   "execution_count": null,
   "metadata": {
    "collapsed": true,
    "deletable": true,
    "editable": true
   },
   "outputs": [],
   "source": []
  }
 ],
 "metadata": {
  "kernelspec": {
   "display_name": "Python 3",
   "language": "python",
   "name": "python3"
  },
  "language_info": {
   "codemirror_mode": {
    "name": "ipython",
    "version": 3
   },
   "file_extension": ".py",
   "mimetype": "text/x-python",
   "name": "python",
   "nbconvert_exporter": "python",
   "pygments_lexer": "ipython3",
   "version": "3.5.2"
  }
 },
 "nbformat": 4,
 "nbformat_minor": 0
}
