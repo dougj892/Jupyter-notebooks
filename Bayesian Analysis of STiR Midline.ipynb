{
 "cells": [
  {
   "cell_type": "markdown",
   "metadata": {},
   "source": [
    "# A Crash Course on Bayesian Analysis using Python and PyMC3\n",
    "This post gives a (very) rough crash course on how to do Bayesian analysis using Python and PyMC3.  \n",
    "\n",
    "## Why Bayesian Analysis?\n",
    "- Typical impact evaluations seek to estimate whether an intervention, overall, had a positive effect\n",
    "- We often seek to tell clients which treatment \"flavor\" of multiple possible flavors is the one they should pursue\n",
    "- The statistical framework that we (and nearly everyone else) uses to analyse data is not great at answering this question\n",
    "- This is because frequentist stats is always based on null hypothesis testing.  \n",
    "- With 5 different treatment arms, we could come up with a lot of different hypotheses: \n",
    "    - all the arms are equal\n",
    "    - arm A has more of an impact than arm B\n",
    "    - arm A has more of an impact than the average of the other arms combined\n",
    "    - ad nauseum\n",
    "- by this point, the client is likely to be getting annoyed.  they want to know that the probability that A is the best, the probability that B is the best, etc\n",
    "- Bayesian stats offers a potential solution\n",
    "- Bayesian stats can likely help out in a lot of other ways as well.  Will talk about these more in future blog posts hopefully\n",
    "    - incorporate the client's beliefs (this could be a feature or a bug depending on your perspective)\n",
    "    - model for external validity\n",
    "    - if you accumulate units into your randomized evaluation over time (e.g. -- you randomize one class of students in the first year, a second class of students in the second year, etc) you can \n",
    "    - if your outcome variable is a latent variable, you can use something like IRT and build it right into the model (need to elaborate on what I mean by this)\n",
    "- downsides\n",
    "    - you *need* to incorporate client's beliefs (or someone's beliefs)\n",
    "    - fitting a model is much harder than just running \"regress y treat, cluster(j)\".  \n",
    "    \n",
    "\n",
    "\n"
   ]
  },
  {
   "cell_type": "markdown",
   "metadata": {},
   "source": [
    "## Overview of What I'll Cover in this Blog Post\n",
    "- The purpose of this post was more for me to take a crack at using Bayesian analysis for this\n",
    "- As such, it's probably not a great way to learn Bayesian analysis\n",
    "- I'll be using python and a few python packages even those familiar with python might not be familiar with\n"
   ]
  },
  {
   "cell_type": "code",
   "execution_count": null,
   "metadata": {
    "collapsed": true
   },
   "outputs": [],
   "source": [
    "# read in the STIR data\n",
    "import pandas as pd\n",
    "import numpy as np\n"
   ]
  }
 ],
 "metadata": {
  "kernelspec": {
   "display_name": "Python 3",
   "language": "python",
   "name": "python3"
  },
  "language_info": {
   "codemirror_mode": {
    "name": "ipython",
    "version": 3
   },
   "file_extension": ".py",
   "mimetype": "text/x-python",
   "name": "python",
   "nbconvert_exporter": "python",
   "pygments_lexer": "ipython3",
   "version": "3.5.1"
  }
 },
 "nbformat": 4,
 "nbformat_minor": 0
}
