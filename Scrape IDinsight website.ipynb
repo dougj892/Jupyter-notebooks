{
 "cells": [
  {
   "cell_type": "markdown",
   "metadata": {},
   "source": [
    "# Scrape the IDinsight website for staff names"
   ]
  },
  {
   "cell_type": "code",
   "execution_count": 2,
   "metadata": {
    "collapsed": false
   },
   "outputs": [],
   "source": [
    "# import the packages that we will need to scrape the website.\n",
    "# The BeautifulSoup package helps parse html\n",
    "from bs4 import BeautifulSoup\n",
    "# The requests package just downloads the html\n",
    "import requests\n",
    "\n",
    "# download the html for the idinsight staff webpage\n",
    "response = requests.get(\"http://idinsight.org/about/team/staff/\")\n",
    "# parse the html using the BeautifulSoup function\n",
    "soup = BeautifulSoup(response.content, \"lxml\")"
   ]
  },
  {
   "cell_type": "code",
   "execution_count": 24,
   "metadata": {
    "collapsed": false
   },
   "outputs": [],
   "source": [
    "# use the BeautifulSoup function 'findall' to get a collection of div tags with the class 'bio-info'\n",
    "bios = soup.findAll('div', {'class':\"bio-info\"})\n",
    "# for each of the div tags with class 'bio-info', search for the h3 tag and get the contents of this tag\n",
    "names = [bio.find('h3').contents[0] for bio in bios]"
   ]
  },
  {
   "cell_type": "code",
   "execution_count": 25,
   "metadata": {
    "collapsed": false
   },
   "outputs": [
    {
     "name": "stdout",
     "output_type": "stream",
     "text": [
      "Abhinav Gupta\n",
      "Alison Connor\n",
      "Amy Chen\n",
      "Andrew Fraker\n",
      "Charity Muchanga\n",
      "Clément Bisserbe\n",
      "Dan Stein\n",
      "Deeptha Umapathy\n",
      "Dinabandhu Bharti\n",
      "Elizabeth Bennett\n",
      "Esther Hsu Wang\n",
      "Eunice Ogolla\n",
      "Gerishom Gimaiyo\n",
      "Girish Tripathi\n",
      "Hamara Abate\n",
      "Harlan Downs-Tepper\n",
      "Heather Lanthorn\n",
      "Henna Mahmood\n",
      "Ivy Migue\n",
      "Jeff McManus\n",
      "Jeremy Fischer\n",
      "Kasamba Mukonde\n",
      "Kate Sturla\n",
      "Lilian Lehmann\n",
      "Lulu Tian\n",
      "Matt Yarri\n",
      "Nadeen Hamza\n",
      "Neil Buddy Shah\n",
      "Nicholas Parker\n",
      "Nicole Hoesterey\n",
      "Nidhaanjit Jain\n",
      "Nikolaus Axmann\n",
      "Noopur Sen\n",
      "Patricia Pina\n",
      "Paul Wang\n",
      "Pramod Kumar\n",
      "PJ Paul\n",
      "Doug Johnson\n",
      "Rajkumar Sharma\n",
      "Ronald Abraham\n",
      "Surili Sheth\n",
      "Varun Chakravarthy\n",
      "Veronica Polin\n",
      "Douglas Chiyesu\n",
      "Ignacio del Busto\n",
      "Qayam Jetha\n",
      "Meghana Mungikar\n",
      "Akash Pattanayak\n",
      "Dhiraj K. Singh\n",
      "Becca (Gong) Sharp\n"
     ]
    }
   ],
   "source": [
    "# print names of all staff\n",
    "for person in names:\n",
    "    print(person)"
   ]
  }
 ],
 "metadata": {
  "kernelspec": {
   "display_name": "Python 3",
   "language": "python",
   "name": "python3"
  },
  "language_info": {
   "codemirror_mode": {
    "name": "ipython",
    "version": 3
   },
   "file_extension": ".py",
   "mimetype": "text/x-python",
   "name": "python",
   "nbconvert_exporter": "python",
   "pygments_lexer": "ipython3",
   "version": "3.5.1"
  }
 },
 "nbformat": 4,
 "nbformat_minor": 0
}
