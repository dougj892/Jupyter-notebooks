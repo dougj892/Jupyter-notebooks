{
 "cells": [
  {
   "cell_type": "markdown",
   "metadata": {},
   "source": [
    "# Testing R and Jupyter\n",
    "trying to replicate stuff I have already done elsewhere"
   ]
  },
  {
   "cell_type": "code",
   "execution_count": 1,
   "metadata": {
    "collapsed": false
   },
   "outputs": [
    {
     "ename": "ERROR",
     "evalue": "Error in library(\"rstan\"): there is no package called ‘rstan’\n",
     "output_type": "error",
     "traceback": [
      "Error in library(\"rstan\"): there is no package called ‘rstan’\nTraceback:\n",
      "1. library(\"rstan\")",
      "2. stop(txt, domain = NA)"
     ]
    }
   ],
   "source": [
    "library(\"rstan\")"
   ]
  },
  {
   "cell_type": "code",
   "execution_count": 2,
   "metadata": {
    "collapsed": false
   },
   "outputs": [
    {
     "ename": "ERROR",
     "evalue": "Error in library(\"ggplot\"): there is no package called ‘ggplot’\n",
     "output_type": "error",
     "traceback": [
      "Error in library(\"ggplot\"): there is no package called ‘ggplot’\nTraceback:\n",
      "1. library(\"ggplot\")",
      "2. stop(txt, domain = NA)"
     ]
    }
   ],
   "source": [
    "library(\"ggplot\")"
   ]
  },
  {
   "cell_type": "code",
   "execution_count": 3,
   "metadata": {
    "collapsed": false
   },
   "outputs": [
    {
     "data": {
      "text/html": [
       "5"
      ],
      "text/latex": [
       "5"
      ],
      "text/markdown": [
       "5"
      ],
      "text/plain": [
       "[1] 5"
      ]
     },
     "metadata": {},
     "output_type": "display_data"
    }
   ],
   "source": [
    "dummy <- 5\n",
    "dummy"
   ]
  },
  {
   "cell_type": "code",
   "execution_count": 4,
   "metadata": {
    "collapsed": false
   },
   "outputs": [
    {
     "name": "stderr",
     "output_type": "stream",
     "text": [
      "Warning message:\n",
      "“unable to access index for repository https://cloud.r-project.org/src/contrib:\n",
      "  cannot download all files”Warning message:\n",
      "“package ‘rstan’ is not available (for R version 3.3.1)”"
     ]
    }
   ],
   "source": [
    "install.packages(\"rstan\", repos = \"https://cloud.r-project.org/\", dependencies=TRUE)"
   ]
  },
  {
   "cell_type": "code",
   "execution_count": null,
   "metadata": {
    "collapsed": true
   },
   "outputs": [],
   "source": []
  }
 ],
 "metadata": {
  "kernelspec": {
   "display_name": "R",
   "language": "R",
   "name": "ir"
  },
  "language_info": {
   "codemirror_mode": "r",
   "file_extension": ".r",
   "mimetype": "text/x-r-source",
   "name": "R",
   "pygments_lexer": "r",
   "version": "3.3.1"
  }
 },
 "nbformat": 4,
 "nbformat_minor": 0
}
