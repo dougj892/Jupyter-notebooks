{
 "cells": [
  {
   "cell_type": "markdown",
   "metadata": {},
   "source": [
    "# Small n evaluations: what to do with a p-value of .23\n",
    "What do you do when you run an evaluation and your estimate of treatment effect is large but the p-value is only 0.23? You might reasonably conclude that 0.23 is better than a p-value of 0.5, but then again it is quite a bit larger than the typically used thresholds of 0.05 and 0.1. \n",
    "\n",
    "Of course, what we, and the client, really want is not a p-value but a probability.  In this case, let's suppose that there is another intervention that costs about the same and which we think has an effect of $\\delta$.  In that case, what we really want to know is the probabiltiy that the intervention we are evaluating has an effect greater than $\\delta$.  \n"
   ]
  },
  {
   "cell_type": "markdown",
   "metadata": {},
   "source": [
    "## Input some fake data\n",
    "Let's see how to do this for a simple example. First, let's input some fake data for a binary treatment and a binary outcome. "
   ]
  },
  {
   "cell_type": "code",
   "execution_count": 2,
   "metadata": {
    "collapsed": false
   },
   "outputs": [],
   "source": [
    "# Create two vectors of fake data: one for a binary outcome and one for a binary treatment\n",
    "import numpy as np\n",
    "outcome = np.array([1, 1, 0, 1, 0, 1, 1, 1, 1, 0, 1, 0, 0, 0, 0, 1, 0, 1, 1, 1, 1, 0, 1,\n",
    "       0, 1, 0, 0, 0, 0, 1, 1, 0, 1, 0, 1, 1, 0, 0, 1, 1, 0, 1, 0, 1, 0, 0,\n",
    "       1, 1, 1, 1, 0, 1, 1, 1, 1, 1, 1, 0, 1, 1, 0, 1, 0, 1, 1, 1, 1, 1, 1,\n",
    "       0])\n",
    "treat_status = np.array([0, 0, 0, 0, 0, 0, 0, 0, 0, 0, 0, 0, 0, 0, 0, 0, 0, 0, 0, 0, 0, 0, 0,\n",
    "       0, 0, 0, 0, 0, 0, 0, 1, 1, 1, 1, 1, 1, 1, 1, 1, 1, 1, 1, 1, 1, 1, 1,\n",
    "       1, 1, 1, 1, 1, 1, 1, 1, 1, 1, 1, 1, 1, 1, 1, 1, 1, 1, 1, 1, 1, 1, 1,\n",
    "       1])"
   ]
  },
  {
   "cell_type": "markdown",
   "metadata": {},
   "source": [
    "## Run a logit on the fake data\n",
    "Next, let's run a standard logit on this data. When we run the logit, the estimate of the treatment effect is reasonable large but the p-value is only 0.23.  (Note that the following code is equivalent to running \"logit outcome treat_status\" in Stata.)"
   ]
  },
  {
   "cell_type": "code",
   "execution_count": 11,
   "metadata": {
    "collapsed": false
   },
   "outputs": [
    {
     "name": "stdout",
     "output_type": "stream",
     "text": [
      "                 Generalized Linear Model Regression Results                  \n",
      "==============================================================================\n",
      "Dep. Variable:                      y   No. Observations:                   70\n",
      "Model:                            GLM   Df Residuals:                       68\n",
      "Model Family:                Binomial   Df Model:                            1\n",
      "Link Function:                  logit   Scale:                             1.0\n",
      "Method:                          IRLS   Log-Likelihood:                -45.951\n",
      "Date:                Sun, 31 Jul 2016   Deviance:                       91.902\n",
      "Time:                        10:34:20   Pearson chi2:                     70.0\n",
      "No. Iterations:                     6                                         \n",
      "==============================================================================\n",
      "                 coef    std err          z      P>|z|      [95.0% Conf. Int.]\n",
      "------------------------------------------------------------------------------\n",
      "const          0.1335      0.366      0.365      0.715        -0.584     0.851\n",
      "x1             0.5974      0.498      1.200      0.230        -0.378     1.573\n",
      "==============================================================================\n"
     ]
    }
   ],
   "source": [
    "import statsmodels.api as sm\n",
    "X = sm.add_constant(treat_status)\n",
    "model = sm.GLM(outcome, X, family = sm.families.Binomial())\n",
    "print(model.fit().summary())"
   ]
  },
  {
   "cell_type": "markdown",
   "metadata": {},
   "source": [
    "## Fit a Bayesian logit\n",
    "The code below fits a Bayesian logit model to this data.  The key lines of code to pay attention to are 13 and 14. These lines specify the \"prior\" for the model parameters -- or our ex-ante beliefs on what the parameters should be.  In this case, my prior is that the intercept for the logit model (alpha) is distributed normally with mean 0 and standard deviation 10 and the slope for the logit model (beta) is also distributed normally with mean 0 and standard deviation 10.  In other words, ex-ante, I think that there is a 50/50 chance that the intervention has a positive versus a negative effect.  "
   ]
  },
  {
   "cell_type": "code",
   "execution_count": 7,
   "metadata": {
    "collapsed": true
   },
   "outputs": [
    {
     "name": "stderr",
     "output_type": "stream",
     "text": [
      "/Users/douglasjohnson/anaconda/lib/python3.5/multiprocessing/reduction.py:50: UserWarning: Pickling fit objects is an experimental feature!\n",
      "The relevant StanModel instance must be pickled along with this fit object.\n",
      "When unpickling the StanModel must be unpickled first.\n",
      "  cls(buf, protocol).dump(obj)\n",
      "/Users/douglasjohnson/anaconda/lib/python3.5/multiprocessing/reduction.py:50: UserWarning: Pickling fit objects is an experimental feature!\n",
      "The relevant StanModel instance must be pickled along with this fit object.\n",
      "When unpickling the StanModel must be unpickled first.\n",
      "  cls(buf, protocol).dump(obj)\n",
      "/Users/douglasjohnson/anaconda/lib/python3.5/multiprocessing/reduction.py:50: UserWarning: Pickling fit objects is an experimental feature!\n",
      "The relevant StanModel instance must be pickled along with this fit object.\n",
      "When unpickling the StanModel must be unpickled first.\n",
      "  cls(buf, protocol).dump(obj)\n",
      "/Users/douglasjohnson/anaconda/lib/python3.5/multiprocessing/reduction.py:50: UserWarning: Pickling fit objects is an experimental feature!\n",
      "The relevant StanModel instance must be pickled along with this fit object.\n",
      "When unpickling the StanModel must be unpickled first.\n",
      "  cls(buf, protocol).dump(obj)\n"
     ]
    }
   ],
   "source": [
    "import pystan\n",
    "stan_code = '''\n",
    "data {\n",
    "    int<lower=0> N;  // number of observations\n",
    "    int<lower=0,upper=1> y[N];  // outcome data\n",
    "    vector[N] treat;  // variable indicating treatment arm for each observation\n",
    "}\n",
    "parameters {\n",
    "    real alpha;\n",
    "    real beta;\n",
    "}\n",
    "model {\n",
    "    alpha ~ normal(0,10);  // our prior for alpha\n",
    "    beta ~ normal(0,10); // our prior for beta\n",
    "    y ~ bernoulli_logit(alpha + beta*treat);\n",
    "}    \n",
    "generated quantities {\n",
    "    real effect;\n",
    "    effect <- inv_logit(alpha+beta)-inv_logit(alpha);\n",
    "}\n",
    "\n",
    "'''\n",
    "stan_data = {'N': len(outcome),\n",
    "        'y': outcome,\n",
    "        'treat': treat_status }\n",
    "fit = pystan.stan(model_code=stan_code, data=stan_data, iter=1000, chains=4)"
   ]
  },
  {
   "cell_type": "markdown",
   "metadata": {},
   "source": [
    "# Analyze the results\n",
    "Now that we have fitted the model, we want to use the results to estimate the probability that the effect of the intervention is greater than $\\delta$.  The code above spits out a vector of values for \"effect size.\" These values are approximate draws from the \"posterior\" for the effect size.  In other words, the vector contains a bunch of values drawn from the distribution of the effect size where the distribution is calculated using the model above. \n",
    "\n",
    "Let's first extract the vector for the posterior values and graph the values using a histogram. "
   ]
  },
  {
   "cell_type": "code",
   "execution_count": 12,
   "metadata": {
    "collapsed": false
   },
   "outputs": [
    {
     "data": {
      "text/plain": [
       "<matplotlib.axes._subplots.AxesSubplot at 0x11d254cf8>"
      ]
     },
     "execution_count": 12,
     "metadata": {},
     "output_type": "execute_result"
    },
    {
     "data": {
      "image/png": "[encoded data removed]",
      "text/plain": [
       "<matplotlib.figure.Figure at 0x11cbc6dd8>"
      ]
     },
     "metadata": {},
     "output_type": "display_data"
    }
   ],
   "source": [
    "% matplotlib inline\n",
    "import matplotlib.pyplot as plt\n",
    "import seaborn as sns\n",
    "\n",
    "effect_sim = fit.extract()['effect']\n",
    "sns.distplot(effect_sim)"
   ]
  },
  {
   "cell_type": "markdown",
   "metadata": {},
   "source": [
    "Next, let's calculate the probability that the effect is greater than $\\delta$.  For this example, let's assume $\\delta$ is equal to .05, or, in other words, the other intervention we are comparing our intervention to causes a 5 percentage point increase in the probability of the outcome being a success. "
   ]
  },
  {
   "cell_type": "code",
   "execution_count": 13,
   "metadata": {
    "collapsed": false
   },
   "outputs": [
    {
     "data": {
      "text/plain": [
       "0.74199999999999999"
      ]
     },
     "execution_count": 13,
     "metadata": {},
     "output_type": "execute_result"
    }
   ],
   "source": [
    "# calculate the probability that effect size is greater than 0\n",
    "(effect_sim >0.05).sum()/len(effect_sim)"
   ]
  },
  {
   "cell_type": "markdown",
   "metadata": {},
   "source": [
    "## Takeaway\n",
    "According to our model, the probability that the effect of the new intervention is greater than the intervention that we are comparing it to is 74%! Despite the large p-value for our initial analysis, the more thorough Bayesian shows that our message to the client should be clear: you should definitely take up this intervention.  \n",
    "\n",
    "I should add one last cavet. In this example, a relatively large p-value ended up translating into a relatively large probability that the intervention is effective.  Please note that this is not always going to be the case!"
   ]
  }
 ],
 "metadata": {
  "kernelspec": {
   "display_name": "Python 3",
   "language": "python",
   "name": "python3"
  },
  "language_info": {
   "codemirror_mode": {
    "name": "ipython",
    "version": 3
   },
   "file_extension": ".py",
   "mimetype": "text/x-python",
   "name": "python",
   "nbconvert_exporter": "python",
   "pygments_lexer": "ipython3",
   "version": "3.5.1"
  }
 },
 "nbformat": 4,
 "nbformat_minor": 0
}
