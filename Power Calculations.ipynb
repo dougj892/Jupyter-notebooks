{
 "cells": [
  {
   "cell_type": "markdown",
   "metadata": {},
   "source": [
    "# Power Calculations in Python\n",
    "This notebook contains examples of power calculations conducted using python.  I created this notebook because I find performing power calculatins in Stata a little too hands off (in the sense that I often forget what formula is being used) and performing power calcs in Excel a little too hands on.  "
   ]
  },
  {
   "cell_type": "markdown",
   "metadata": {},
   "source": [
    "# Basics of Calculating Variance of Sums of Variables\n",
    "By the definition of variance, the variance of the sum of two random variables X and Y multiplied by fixed constants a and b is:\n",
    "\n",
    "$$ Var(aX+bY) = a^2Var(X)+b^2Var(Y) $$\n",
    "\n",
    "It follows that the variance of the mean of $N$ i.i.d. random variables $y_i$ is:\n",
    "\n",
    "$$ Var(\\bar{y})=Var\\left(\\frac{\\sum{y_i}}{N}\\right)=Var\\left(\\sum{\\frac{y_i}{N}}\\right)=\\frac{1}{N^2}Var\\left(\\sum{y_i}\\right) = \\frac{1}{N^2}N\\sigma^2_y = \n",
    "\\frac{\\sigma^2_y}{N} $$\n",
    "\n",
    "Where $\\sigma^2_y = Var(y_i)$"
   ]
  },
  {
   "cell_type": "markdown",
   "metadata": {},
   "source": [
    "# Basic Formula\n",
    "\n",
    "For most experiments, we seek to estimate the average treatment effect or...\n",
    "\n",
    "$$ \\Delta = \\bar{Y_t}-\\bar{Y_c} $$\n",
    "\n",
    "Using the formula above, this equals...\n",
    "\n"
   ]
  },
  {
   "cell_type": "code",
   "execution_count": null,
   "metadata": {
    "collapsed": true
   },
   "outputs": [],
   "source": []
  }
 ],
 "metadata": {
  "kernelspec": {
   "display_name": "Python 3",
   "language": "python",
   "name": "python3"
  },
  "language_info": {
   "codemirror_mode": {
    "name": "ipython",
    "version": 3
   },
   "file_extension": ".py",
   "mimetype": "text/x-python",
   "name": "python",
   "nbconvert_exporter": "python",
   "pygments_lexer": "ipython3",
   "version": "3.5.1"
  }
 },
 "nbformat": 4,
 "nbformat_minor": 0
}
