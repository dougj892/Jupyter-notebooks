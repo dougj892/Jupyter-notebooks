{
  "nbformat": 4,
  "nbformat_minor": 0,
  "metadata": {
    "colab": {
      "name": "RStan example.ipynb",
      "provenance": [],
      "authorship_tag": "ABX9TyOzFtTbaaVSozlS/d4At8z3",
      "include_colab_link": true
    },
    "kernelspec": {
      "name": "ir",
      "display_name": "R"
    }
  },
  "cells": [
    {
      "cell_type": "markdown",
      "metadata": {
        "id": "view-in-github",
        "colab_type": "text"
      },
      "source": [
        "<a href=\"https://colab.research.google.com/github/dougj892/Jupyter-notebooks/blob/master/RStan_example.ipynb\" target=\"_parent\"><img src=\"https://colab.research.google.com/assets/colab-badge.svg\" alt=\"Open In Colab\"/></a>"
      ]
    },
    {
      "cell_type": "code",
      "metadata": {
        "id": "tC--W7dzIKq5",
        "colab_type": "code",
        "colab": {
          "base_uri": "https://localhost:8080/",
          "height": 118
        },
        "outputId": "9ebb29e7-a631-4293-8669-fc424a1359de"
      },
      "source": [
        "install.packages(\"rstan\")"
      ],
      "execution_count": 2,
      "outputs": [
        {
          "output_type": "stream",
          "text": [
            "Installing package into ‘/usr/local/lib/R/site-library’\n",
            "(as ‘lib’ is unspecified)\n",
            "\n",
            "also installing the dependencies ‘checkmate’, ‘matrixStats’, ‘StanHeaders’, ‘inline’, ‘gridExtra’, ‘loo’, ‘RcppEigen’\n",
            "\n",
            "\n"
          ],
          "name": "stderr"
        }
      ]
    },
    {
      "cell_type": "code",
      "metadata": {
        "id": "CpCFH9OeIU0n",
        "colab_type": "code",
        "colab": {
          "base_uri": "https://localhost:8080/",
          "height": 202
        },
        "outputId": "2ba644c4-2de2-4493-edc8-c115ec254937"
      },
      "source": [
        "library(rstan)"
      ],
      "execution_count": 3,
      "outputs": [
        {
          "output_type": "stream",
          "text": [
            "Loading required package: StanHeaders\n",
            "\n",
            "Loading required package: ggplot2\n",
            "\n",
            "rstan (Version 2.19.2, GitRev: 2e1f913d3ca3)\n",
            "\n",
            "For execution on a local, multicore CPU with excess RAM we recommend calling\n",
            "options(mc.cores = parallel::detectCores()).\n",
            "To avoid recompilation of unchanged Stan programs, we recommend calling\n",
            "rstan_options(auto_write = TRUE)\n",
            "\n"
          ],
          "name": "stderr"
        }
      ]
    },
    {
      "cell_type": "code",
      "metadata": {
        "id": "X1tgcjPsQQxS",
        "colab_type": "code",
        "colab": {
          "base_uri": "https://localhost:8080/",
          "height": 171
        },
        "outputId": "5390e051-3dea-49c1-d3ec-f8161fbb4b07"
      },
      "source": [
        "pkgbuild::has_build_tools(debug = TRUE)"
      ],
      "execution_count": 4,
      "outputs": [
        {
          "output_type": "stream",
          "text": [
            "Trying to compile a simple C file\n",
            "\n"
          ],
          "name": "stderr"
        },
        {
          "output_type": "stream",
          "text": [
            "Running /usr/lib/R/bin/R CMD SHLIB foo.c\n",
            "gcc -std=gnu99 -I\"/usr/share/R/include\" -DNDEBUG     -fpic  -g -O2 -fdebug-prefix-map=/build/r-base-t3diwe/r-base-3.6.2=. -fstack-protector-strong -Wformat -Werror=format-security -Wdate-time -D_FORTIFY_SOURCE=2 -g  -c foo.c -o foo.o\n",
            "gcc -std=gnu99 -shared -L/usr/lib/R/lib -Wl,-Bsymbolic-functions -Wl,-z,relro -o foo.so foo.o -L/usr/lib/R/lib -lR\n"
          ],
          "name": "stdout"
        },
        {
          "output_type": "stream",
          "text": [
            "\n",
            "\n"
          ],
          "name": "stderr"
        },
        {
          "output_type": "display_data",
          "data": {
            "text/plain": [
              "[1] TRUE"
            ],
            "text/latex": "TRUE",
            "text/markdown": "TRUE",
            "text/html": [
              "TRUE"
            ]
          },
          "metadata": {
            "tags": []
          }
        }
      ]
    },
    {
      "cell_type": "code",
      "metadata": {
        "id": "OaqEruBuRGkc",
        "colab_type": "code",
        "colab": {}
      },
      "source": [
        "stan_code <- \"data {\n",
        "  int<lower=0> J;         // number of schools \n",
        "  real y[J];              // estimated treatment effects\n",
        "  real<lower=0> sigma[J]; // standard error of effect estimates \n",
        "}\n",
        "parameters {\n",
        "  real mu;                // population treatment effect\n",
        "  real<lower=0> tau;      // standard deviation in treatment effects\n",
        "  vector[J] eta;          // unscaled deviation from mu by school\n",
        "}\n",
        "transformed parameters {\n",
        "  vector[J] theta = mu + tau * eta;        // school treatment effects\n",
        "}\n",
        "model {\n",
        "  target += normal_lpdf(eta | 0, 1);       // prior log-density\n",
        "  target += normal_lpdf(y | theta, sigma); // log-likelihood\n",
        "}\""
      ],
      "execution_count": 0,
      "outputs": []
    },
    {
      "cell_type": "code",
      "metadata": {
        "id": "N3znJZfiRMOO",
        "colab_type": "code",
        "colab": {}
      },
      "source": [
        "schools_dat <- list(J = 8, \n",
        "                    y = c(28,  8, -3,  7, -1,  1, 18, 12),\n",
        "                    sigma = c(15, 10, 16, 11,  9, 11, 10, 18))"
      ],
      "execution_count": 0,
      "outputs": []
    },
    {
      "cell_type": "code",
      "metadata": {
        "id": "Ucc4VXKjROWw",
        "colab_type": "code",
        "colab": {
          "base_uri": "https://localhost:8080/",
          "height": 1000
        },
        "outputId": "2fdb1724-9c82-4182-89f8-10d696062b22"
      },
      "source": [
        "fit <- stan(model_code = stan_code, data = schools_dat)"
      ],
      "execution_count": 10,
      "outputs": [
        {
          "output_type": "stream",
          "text": [
            "\n",
            "SAMPLING FOR MODEL 'b02283c080bb32a2f56ccbcb1d8afc68' NOW (CHAIN 1).\n",
            "Chain 1: \n",
            "Chain 1: Gradient evaluation took 1.4e-05 seconds\n",
            "Chain 1: 1000 transitions using 10 leapfrog steps per transition would take 0.14 seconds.\n",
            "Chain 1: Adjust your expectations accordingly!\n",
            "Chain 1: \n",
            "Chain 1: \n",
            "Chain 1: Iteration:    1 / 2000 [  0%]  (Warmup)\n",
            "Chain 1: Iteration:  200 / 2000 [ 10%]  (Warmup)\n",
            "Chain 1: Iteration:  400 / 2000 [ 20%]  (Warmup)\n",
            "Chain 1: Iteration:  600 / 2000 [ 30%]  (Warmup)\n",
            "Chain 1: Iteration:  800 / 2000 [ 40%]  (Warmup)\n",
            "Chain 1: Iteration: 1000 / 2000 [ 50%]  (Warmup)\n",
            "Chain 1: Iteration: 1001 / 2000 [ 50%]  (Sampling)\n",
            "Chain 1: Iteration: 1200 / 2000 [ 60%]  (Sampling)\n",
            "Chain 1: Iteration: 1400 / 2000 [ 70%]  (Sampling)\n",
            "Chain 1: Iteration: 1600 / 2000 [ 80%]  (Sampling)\n",
            "Chain 1: Iteration: 1800 / 2000 [ 90%]  (Sampling)\n",
            "Chain 1: Iteration: 2000 / 2000 [100%]  (Sampling)\n",
            "Chain 1: \n",
            "Chain 1:  Elapsed Time: 0.039065 seconds (Warm-up)\n",
            "Chain 1:                0.034783 seconds (Sampling)\n",
            "Chain 1:                0.073848 seconds (Total)\n",
            "Chain 1: \n",
            "\n",
            "SAMPLING FOR MODEL 'b02283c080bb32a2f56ccbcb1d8afc68' NOW (CHAIN 2).\n",
            "Chain 2: \n",
            "Chain 2: Gradient evaluation took 6e-06 seconds\n",
            "Chain 2: 1000 transitions using 10 leapfrog steps per transition would take 0.06 seconds.\n",
            "Chain 2: Adjust your expectations accordingly!\n",
            "Chain 2: \n",
            "Chain 2: \n",
            "Chain 2: Iteration:    1 / 2000 [  0%]  (Warmup)\n",
            "Chain 2: Iteration:  200 / 2000 [ 10%]  (Warmup)\n",
            "Chain 2: Iteration:  400 / 2000 [ 20%]  (Warmup)\n",
            "Chain 2: Iteration:  600 / 2000 [ 30%]  (Warmup)\n",
            "Chain 2: Iteration:  800 / 2000 [ 40%]  (Warmup)\n",
            "Chain 2: Iteration: 1000 / 2000 [ 50%]  (Warmup)\n",
            "Chain 2: Iteration: 1001 / 2000 [ 50%]  (Sampling)\n",
            "Chain 2: Iteration: 1200 / 2000 [ 60%]  (Sampling)\n",
            "Chain 2: Iteration: 1400 / 2000 [ 70%]  (Sampling)\n",
            "Chain 2: Iteration: 1600 / 2000 [ 80%]  (Sampling)\n",
            "Chain 2: Iteration: 1800 / 2000 [ 90%]  (Sampling)\n",
            "Chain 2: Iteration: 2000 / 2000 [100%]  (Sampling)\n",
            "Chain 2: \n",
            "Chain 2:  Elapsed Time: 0.03834 seconds (Warm-up)\n",
            "Chain 2:                0.03102 seconds (Sampling)\n",
            "Chain 2:                0.06936 seconds (Total)\n",
            "Chain 2: \n",
            "\n",
            "SAMPLING FOR MODEL 'b02283c080bb32a2f56ccbcb1d8afc68' NOW (CHAIN 3).\n",
            "Chain 3: \n",
            "Chain 3: Gradient evaluation took 8e-06 seconds\n",
            "Chain 3: 1000 transitions using 10 leapfrog steps per transition would take 0.08 seconds.\n",
            "Chain 3: Adjust your expectations accordingly!\n",
            "Chain 3: \n",
            "Chain 3: \n",
            "Chain 3: Iteration:    1 / 2000 [  0%]  (Warmup)\n",
            "Chain 3: Iteration:  200 / 2000 [ 10%]  (Warmup)\n",
            "Chain 3: Iteration:  400 / 2000 [ 20%]  (Warmup)\n",
            "Chain 3: Iteration:  600 / 2000 [ 30%]  (Warmup)\n",
            "Chain 3: Iteration:  800 / 2000 [ 40%]  (Warmup)\n",
            "Chain 3: Iteration: 1000 / 2000 [ 50%]  (Warmup)\n",
            "Chain 3: Iteration: 1001 / 2000 [ 50%]  (Sampling)\n",
            "Chain 3: Iteration: 1200 / 2000 [ 60%]  (Sampling)\n",
            "Chain 3: Iteration: 1400 / 2000 [ 70%]  (Sampling)\n",
            "Chain 3: Iteration: 1600 / 2000 [ 80%]  (Sampling)\n",
            "Chain 3: Iteration: 1800 / 2000 [ 90%]  (Sampling)\n",
            "Chain 3: Iteration: 2000 / 2000 [100%]  (Sampling)\n",
            "Chain 3: \n",
            "Chain 3:  Elapsed Time: 0.034148 seconds (Warm-up)\n",
            "Chain 3:                0.038324 seconds (Sampling)\n",
            "Chain 3:                0.072472 seconds (Total)\n",
            "Chain 3: \n",
            "\n",
            "SAMPLING FOR MODEL 'b02283c080bb32a2f56ccbcb1d8afc68' NOW (CHAIN 4).\n",
            "Chain 4: \n",
            "Chain 4: Gradient evaluation took 7e-06 seconds\n",
            "Chain 4: 1000 transitions using 10 leapfrog steps per transition would take 0.07 seconds.\n",
            "Chain 4: Adjust your expectations accordingly!\n",
            "Chain 4: \n",
            "Chain 4: \n",
            "Chain 4: Iteration:    1 / 2000 [  0%]  (Warmup)\n",
            "Chain 4: Iteration:  200 / 2000 [ 10%]  (Warmup)\n",
            "Chain 4: Iteration:  400 / 2000 [ 20%]  (Warmup)\n",
            "Chain 4: Iteration:  600 / 2000 [ 30%]  (Warmup)\n",
            "Chain 4: Iteration:  800 / 2000 [ 40%]  (Warmup)\n",
            "Chain 4: Iteration: 1000 / 2000 [ 50%]  (Warmup)\n",
            "Chain 4: Iteration: 1001 / 2000 [ 50%]  (Sampling)\n",
            "Chain 4: Iteration: 1200 / 2000 [ 60%]  (Sampling)\n",
            "Chain 4: Iteration: 1400 / 2000 [ 70%]  (Sampling)\n",
            "Chain 4: Iteration: 1600 / 2000 [ 80%]  (Sampling)\n",
            "Chain 4: Iteration: 1800 / 2000 [ 90%]  (Sampling)\n",
            "Chain 4: Iteration: 2000 / 2000 [100%]  (Sampling)\n",
            "Chain 4: \n",
            "Chain 4:  Elapsed Time: 0.03734 seconds (Warm-up)\n",
            "Chain 4:                0.025374 seconds (Sampling)\n",
            "Chain 4:                0.062714 seconds (Total)\n",
            "Chain 4: \n"
          ],
          "name": "stdout"
        },
        {
          "output_type": "stream",
          "text": [
            "Warning message:\n",
            "“There were 1 divergent transitions after warmup. Increasing adapt_delta above 0.8 may help. See\n",
            "http://mc-stan.org/misc/warnings.html#divergent-transitions-after-warmup”\n",
            "Warning message:\n",
            "“Examine the pairs() plot to diagnose sampling problems\n",
            "”\n"
          ],
          "name": "stderr"
        }
      ]
    },
    {
      "cell_type": "code",
      "metadata": {
        "id": "_nXpgewBRTI-",
        "colab_type": "code",
        "colab": {
          "base_uri": "https://localhost:8080/",
          "height": 504
        },
        "outputId": "fae726ad-dc56-462a-c63e-8ae708f32b31"
      },
      "source": [
        "print(fit)"
      ],
      "execution_count": 11,
      "outputs": [
        {
          "output_type": "stream",
          "text": [
            "Inference for Stan model: b02283c080bb32a2f56ccbcb1d8afc68.\n",
            "4 chains, each with iter=2000; warmup=1000; thin=1; \n",
            "post-warmup draws per chain=1000, total post-warmup draws=4000.\n",
            "\n",
            "           mean se_mean   sd   2.5%    25%    50%    75%  97.5% n_eff Rhat\n",
            "mu         7.82    0.11 4.98  -1.65   4.49   7.81  11.00  17.59  2125 1.00\n",
            "tau        6.54    0.15 5.57   0.18   2.42   5.21   9.19  20.34  1423 1.00\n",
            "eta[1]     0.40    0.02 0.94  -1.53  -0.19   0.42   1.05   2.19  3548 1.00\n",
            "eta[2]     0.01    0.01 0.87  -1.72  -0.59   0.00   0.60   1.73  3924 1.00\n",
            "eta[3]    -0.18    0.01 0.91  -1.89  -0.81  -0.18   0.42   1.66  4010 1.00\n",
            "eta[4]    -0.02    0.01 0.87  -1.71  -0.60  -0.03   0.55   1.69  3944 1.00\n",
            "eta[5]    -0.37    0.02 0.88  -2.02  -0.95  -0.39   0.17   1.39  3338 1.00\n",
            "eta[6]    -0.20    0.01 0.89  -1.97  -0.77  -0.20   0.37   1.55  3663 1.00\n",
            "eta[7]     0.34    0.01 0.89  -1.43  -0.25   0.36   0.94   2.07  3564 1.00\n",
            "eta[8]     0.06    0.01 0.95  -1.84  -0.58   0.07   0.71   1.94  4241 1.00\n",
            "theta[1]  11.38    0.16 8.40  -2.36   5.82  10.33  15.51  31.96  2670 1.00\n",
            "theta[2]   7.79    0.09 6.17  -4.90   3.98   7.77  11.52  20.21  5151 1.00\n",
            "theta[3]   5.98    0.13 7.51 -10.96   1.78   6.56  10.67  19.59  3187 1.00\n",
            "theta[4]   7.60    0.10 6.43  -5.28   3.49   7.52  11.60  20.50  4573 1.00\n",
            "theta[5]   4.89    0.11 6.34  -8.79   1.09   5.33   9.18  16.26  3568 1.00\n",
            "theta[6]   6.09    0.11 6.83  -9.02   2.14   6.31  10.34  19.05  3886 1.00\n",
            "theta[7]  10.54    0.12 6.78  -1.24   5.91   9.90  14.35  26.35  3396 1.00\n",
            "theta[8]   8.42    0.13 7.87  -6.73   3.68   8.15  12.75  25.46  3428 1.00\n",
            "lp__     -39.54    0.08 2.68 -45.51 -41.09 -39.30 -37.68 -34.98  1190 1.01\n",
            "\n",
            "Samples were drawn using NUTS(diag_e) at Thu Jan 16 07:37:09 2020.\n",
            "For each parameter, n_eff is a crude measure of effective sample size,\n",
            "and Rhat is the potential scale reduction factor on split chains (at \n",
            "convergence, Rhat=1).\n"
          ],
          "name": "stdout"
        }
      ]
    },
    {
      "cell_type": "code",
      "metadata": {
        "id": "EfCSgotYRtSf",
        "colab_type": "code",
        "colab": {}
      },
      "source": [
        ""
      ],
      "execution_count": 0,
      "outputs": []
    }
  ]
}